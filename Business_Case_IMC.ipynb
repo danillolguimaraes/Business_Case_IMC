{
 "cells": [
  {
   "cell_type": "markdown",
   "metadata": {},
   "source": [
    "# Entrada de Dados"
   ]
  },
  {
   "cell_type": "code",
   "execution_count": 4,
   "metadata": {},
   "outputs": [],
   "source": [
    "nome = input(\"Digite o nome do aluno(a): \")\n",
    "idade = input(\"Digite a idade do aluno(a): \")\n",
    "peso = input(\"Digite o peso do aluno(a) (Kg): \")\n",
    "altura = input(\"Digite a altura do aluno(a) (m): \")\n",
    "\n",
    "# todos os dados vem como str, temos que converter"
   ]
  },
  {
   "cell_type": "code",
   "execution_count": 5,
   "metadata": {},
   "outputs": [
    {
     "name": "stdout",
     "output_type": "stream",
     "text": [
      "Danillo 29 110 1.80\n"
     ]
    }
   ],
   "source": [
    "print(nome, idade, peso, altura)"
   ]
  },
  {
   "cell_type": "markdown",
   "metadata": {},
   "source": [
    "# Calculando o IMC"
   ]
  },
  {
   "cell_type": "code",
   "execution_count": 10,
   "metadata": {},
   "outputs": [],
   "source": [
    "# Peso / Altura²\n",
    "\n",
    "imc = float(peso) / (float(altura) ** 2)"
   ]
  },
  {
   "cell_type": "code",
   "execution_count": 11,
   "metadata": {},
   "outputs": [
    {
     "name": "stdout",
     "output_type": "stream",
     "text": [
      "33.95061728395061\n"
     ]
    }
   ],
   "source": [
    "print(imc)"
   ]
  },
  {
   "cell_type": "markdown",
   "metadata": {},
   "source": [
    "# Criando o Status"
   ]
  },
  {
   "cell_type": "code",
   "execution_count": 16,
   "metadata": {},
   "outputs": [],
   "source": [
    "status = \"dentro do peso\"\n",
    "\n",
    "if imc > 25:\n",
    "  status = \"sobrepeso\"\n",
    "elif imc < 15:\n",
    "  status = \"Abaixo do Peso\""
   ]
  },
  {
   "cell_type": "code",
   "execution_count": 15,
   "metadata": {},
   "outputs": [
    {
     "name": "stdout",
     "output_type": "stream",
     "text": [
      "sobrepeso\n"
     ]
    }
   ],
   "source": [
    "print(status)"
   ]
  },
  {
   "cell_type": "markdown",
   "metadata": {},
   "source": [
    "# Gerando o PDF"
   ]
  },
  {
   "cell_type": "code",
   "execution_count": null,
   "metadata": {},
   "outputs": [],
   "source": []
  }
 ],
 "metadata": {
  "kernelspec": {
   "display_name": "Python 3",
   "language": "python",
   "name": "python3"
  },
  "language_info": {
   "codemirror_mode": {
    "name": "ipython",
    "version": 3
   },
   "file_extension": ".py",
   "mimetype": "text/x-python",
   "name": "python",
   "nbconvert_exporter": "python",
   "pygments_lexer": "ipython3",
   "version": "3.12.3"
  }
 },
 "nbformat": 4,
 "nbformat_minor": 2
}
