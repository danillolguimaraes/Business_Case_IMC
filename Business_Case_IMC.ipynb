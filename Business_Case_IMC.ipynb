{
 "cells": [
  {
   "cell_type": "markdown",
   "metadata": {},
   "source": [
    "# Entrada de Dados"
   ]
  },
  {
   "cell_type": "code",
   "execution_count": 2,
   "metadata": {},
   "outputs": [],
   "source": [
    "nome = input(\"Digite o nome do aluno(a): \")\n",
    "idade = input(\"Digite a idade do aluno(a): \")\n",
    "peso = input(\"Digite o peso do aluno(a) (Kg): \")\n",
    "altura = input(\"Digite a altura do aluno(a) (m): \")\n",
    "\n",
    "# todos os dados vem como str, temos que converter"
   ]
  },
  {
   "cell_type": "code",
   "execution_count": 3,
   "metadata": {},
   "outputs": [
    {
     "name": "stdout",
     "output_type": "stream",
     "text": [
      "Danillo 29 110 1.80\n"
     ]
    }
   ],
   "source": [
    "print(nome, idade, peso, altura)"
   ]
  },
  {
   "cell_type": "markdown",
   "metadata": {},
   "source": [
    "# Calculando o IMC"
   ]
  },
  {
   "cell_type": "code",
   "execution_count": 4,
   "metadata": {},
   "outputs": [],
   "source": [
    "# Peso / Altura²\n",
    "\n",
    "imc = float(peso) / (float(altura) ** 2)"
   ]
  },
  {
   "cell_type": "code",
   "execution_count": 5,
   "metadata": {},
   "outputs": [
    {
     "name": "stdout",
     "output_type": "stream",
     "text": [
      "33.95061728395061\n"
     ]
    }
   ],
   "source": [
    "print(imc)"
   ]
  },
  {
   "cell_type": "markdown",
   "metadata": {},
   "source": [
    "# Criando o Status"
   ]
  },
  {
   "cell_type": "code",
   "execution_count": 15,
   "metadata": {},
   "outputs": [],
   "source": [
    "status = \"dentro do peso\"\n",
    "\n",
    "if imc > 25:\n",
    "  status = \"sobrepeso\"\n",
    "elif imc < 16:\n",
    "  status = \"Abaixo do Peso\""
   ]
  },
  {
   "cell_type": "code",
   "execution_count": 7,
   "metadata": {},
   "outputs": [
    {
     "name": "stdout",
     "output_type": "stream",
     "text": [
      "sobrepeso\n"
     ]
    }
   ],
   "source": [
    "print(status)"
   ]
  },
  {
   "cell_type": "markdown",
   "metadata": {},
   "source": [
    "# Gerando o PDF"
   ]
  },
  {
   "cell_type": "code",
   "execution_count": 2,
   "metadata": {},
   "outputs": [],
   "source": [
    "#PDF Reports biblioteca para ajudar a criar pdf\n",
    "\n",
    "#pip install pdf_reports"
   ]
  },
  {
   "cell_type": "code",
   "execution_count": 9,
   "metadata": {},
   "outputs": [],
   "source": [
    "import pdf_reports"
   ]
  },
  {
   "cell_type": "code",
   "execution_count": 10,
   "metadata": {},
   "outputs": [],
   "source": [
    "dados_aluno = {\n",
    "    \"nome\" : nome,\n",
    "    \"idade\" : idade,\n",
    "    \"peso\": peso,\n",
    "    \"altura\": altura,\n",
    "    \"imc\": imc,\n",
    "    \"status\": status\n",
    "  }"
   ]
  },
  {
   "cell_type": "code",
   "execution_count": 11,
   "metadata": {},
   "outputs": [
    {
     "name": "stdout",
     "output_type": "stream",
     "text": [
      "{'nome': 'Danillo', 'idade': '29', 'peso': '110', 'altura': '1.80', 'imc': 33.95061728395061, 'status': 'sobrepeso'}\n"
     ]
    }
   ],
   "source": [
    "print(dados_aluno)"
   ]
  },
  {
   "cell_type": "code",
   "execution_count": 12,
   "metadata": {},
   "outputs": [],
   "source": [
    "template = pdf_reports.pug_to_html(\"template.pug\", dados=dados_aluno) #use o meu template que esta no repositorio\n"
   ]
  },
  {
   "cell_type": "code",
   "execution_count": 13,
   "metadata": {},
   "outputs": [],
   "source": [
    "import weasyprint"
   ]
  },
  {
   "cell_type": "code",
   "execution_count": 14,
   "metadata": {},
   "outputs": [],
   "source": [
    "pdf_reports.write_report(template, \"ficha_aluno.pdf\", use_default_styling=False)      #pega template e gere um arquivo ficha aluno, use o template que eu criei use_default_styling=false"
   ]
  },
  {
   "cell_type": "markdown",
   "metadata": {},
   "source": [
    "## Para Corrigir o erro que deu no projeto precisamos instalar o\n",
    "\n",
    "* Anaconda Completo\n",
    "* Foi preciso criar um ambiente conda:\n",
    "conda create -n weasyprint-env python=3.9\n",
    "conda activate weasyprint-env\n",
    "\n",
    "conda install -c conda-forge weasyprint\n",
    "\n",
    "pip install pdf_reports\n",
    "\n",
    "Confirmar todas as etapas com Y = yes.\n",
    "\n",
    "\n",
    "\n",
    "## Instalar o IPython kernel no ambiente Conda:\n",
    "\n",
    "conda install ipykernel\n",
    "python -m ipykernel install --user --name weasyprint-env --display-name \"Python (weasyprint-env)\"\n",
    "\n",
    "depois de instalarmos o ambiente conda no kernel, no VS code trocamos o Kernel Python 3.12 para o Kernel que criamos com o conda."
   ]
  },
  {
   "cell_type": "markdown",
   "metadata": {},
   "source": []
  },
  {
   "cell_type": "markdown",
   "metadata": {},
   "source": []
  }
 ],
 "metadata": {
  "kernelspec": {
   "display_name": "Python 3",
   "language": "python",
   "name": "python3"
  },
  "language_info": {
   "codemirror_mode": {
    "name": "ipython",
    "version": 3
   },
   "file_extension": ".py",
   "mimetype": "text/x-python",
   "name": "python",
   "nbconvert_exporter": "python",
   "pygments_lexer": "ipython3",
   "version": "3.9.19"
  }
 },
 "nbformat": 4,
 "nbformat_minor": 2
}
